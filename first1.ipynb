{
  "nbformat": 4,
  "nbformat_minor": 0,
  "metadata": {
    "colab": {
      "provenance": [],
      "authorship_tag": "ABX9TyN3O3d6BpgjWxslhGvq6uHm",
      "include_colab_link": true
    },
    "kernelspec": {
      "name": "python3",
      "display_name": "Python 3"
    },
    "language_info": {
      "name": "python"
    }
  },
  "cells": [
    {
      "cell_type": "markdown",
      "metadata": {
        "id": "view-in-github",
        "colab_type": "text"
      },
      "source": [
        "<a href=\"https://colab.research.google.com/github/2004pra/data-analytics-python/blob/main/first1.ipynb\" target=\"_parent\"><img src=\"https://colab.research.google.com/assets/colab-badge.svg\" alt=\"Open In Colab\"/></a>"
      ]
    },
    {
      "cell_type": "markdown",
      "source": [
        "introduction to python...--> it is high level general purpose interpreted programming lamguage which was made in 1989.\n"
      ],
      "metadata": {
        "id": "DaA-lcS8B4NG"
      }
    },
    {
      "cell_type": "markdown",
      "source": [
        "fundamentals of python\n",
        "\n",
        "(1). datatype\n",
        "(2). varibale\n",
        "(3). input() & print()"
      ],
      "metadata": {
        "id": "Cmrl-maoA31w"
      }
    },
    {
      "cell_type": "markdown",
      "source": [
        "shift+enter for executing new command and still running the last cell\n"
      ],
      "metadata": {
        "id": "AuQYGOwVDZNx"
      }
    },
    {
      "cell_type": "markdown",
      "source": [
        "(1). variable -->this is a container in which we can store or assign values"
      ],
      "metadata": {
        "id": "ycJUzYoVDdC7"
      }
    },
    {
      "cell_type": "code",
      "source": [
        "a=5\n",
        "b='sum'\n",
        "c= 56.89 #a,b,c are the varibales"
      ],
      "metadata": {
        "id": "aGOzRMXnDw61"
      },
      "execution_count": null,
      "outputs": []
    },
    {
      "cell_type": "markdown",
      "source": [
        "(2). datatype\n",
        "  1. -> integer --> all positive or negative values\n",
        "  2. -> float--> all decimal values\n",
        "  3. -> string--> 'single quotes',\"double quotes\",''' triple quotes'''\n",
        "  4. boolean --> true,false"
      ],
      "metadata": {
        "id": "x3Scrg_pEnrr"
      }
    },
    {
      "cell_type": "markdown",
      "source": [
        "Type() function --> it shows me the datatype of any value  its called type function"
      ],
      "metadata": {
        "id": "o2fGlmIkFJ71"
      }
    },
    {
      "cell_type": "code",
      "source": [
        "type(45)"
      ],
      "metadata": {
        "colab": {
          "base_uri": "https://localhost:8080/"
        },
        "id": "fkc3rkFXFZeh",
        "outputId": "8f220d0b-9d7d-407f-e84c-3ea54c68f162"
      },
      "execution_count": null,
      "outputs": [
        {
          "output_type": "execute_result",
          "data": {
            "text/plain": [
              "int"
            ]
          },
          "metadata": {},
          "execution_count": 4
        }
      ]
    },
    {
      "cell_type": "code",
      "source": [
        "type('ram')"
      ],
      "metadata": {
        "colab": {
          "base_uri": "https://localhost:8080/"
        },
        "id": "tjpaQ5rDFdKO",
        "outputId": "2051e824-357f-4a76-eed0-dd261f9eeb9c"
      },
      "execution_count": null,
      "outputs": [
        {
          "output_type": "execute_result",
          "data": {
            "text/plain": [
              "str"
            ]
          },
          "metadata": {},
          "execution_count": 5
        }
      ]
    },
    {
      "cell_type": "code",
      "source": [
        "type(45.49)"
      ],
      "metadata": {
        "colab": {
          "base_uri": "https://localhost:8080/"
        },
        "id": "ImBmncTfFgsr",
        "outputId": "9b908e95-ecf9-4200-e342-fe3691af9d5f"
      },
      "execution_count": null,
      "outputs": [
        {
          "output_type": "execute_result",
          "data": {
            "text/plain": [
              "float"
            ]
          },
          "metadata": {},
          "execution_count": 6
        }
      ]
    },
    {
      "cell_type": "code",
      "source": [
        "type(5>4)"
      ],
      "metadata": {
        "colab": {
          "base_uri": "https://localhost:8080/"
        },
        "id": "u3cffjnGFlxM",
        "outputId": "4a82aae4-816d-436f-efa6-bd428e2521a6"
      },
      "execution_count": null,
      "outputs": [
        {
          "output_type": "execute_result",
          "data": {
            "text/plain": [
              "bool"
            ]
          },
          "metadata": {},
          "execution_count": 7
        }
      ]
    },
    {
      "cell_type": "code",
      "source": [
        "#input function ()----> this is a pre-defined function of python that will ask query from users and by default its output will be in string format its takes by default string\n",
        "\n",
        "a=input(\"enter the frist number:\")\n",
        "type(a)\n",
        "a"
      ],
      "metadata": {
        "colab": {
          "base_uri": "https://localhost:8080/",
          "height": 53
        },
        "id": "HmNQxq75FpZz",
        "outputId": "ee176db9-34fd-40aa-b775-a26891fb7c7e"
      },
      "execution_count": null,
      "outputs": [
        {
          "name": "stdout",
          "output_type": "stream",
          "text": [
            "enter the frist number:45\n"
          ]
        },
        {
          "output_type": "execute_result",
          "data": {
            "text/plain": [
              "'45'"
            ],
            "application/vnd.google.colaboratory.intrinsic+json": {
              "type": "string"
            }
          },
          "metadata": {},
          "execution_count": 9
        }
      ]
    },
    {
      "cell_type": "code",
      "source": [
        "a=1\n",
        "b=2\n",
        "c=a+b\n",
        "c"
      ],
      "metadata": {
        "colab": {
          "base_uri": "https://localhost:8080/"
        },
        "id": "uAUmD6ArGMbf",
        "outputId": "94a498cb-11a9-46b1-ca38-589f89b5e658"
      },
      "execution_count": null,
      "outputs": [
        {
          "output_type": "execute_result",
          "data": {
            "text/plain": [
              "3"
            ]
          },
          "metadata": {},
          "execution_count": 10
        }
      ]
    },
    {
      "cell_type": "code",
      "source": [
        "a=input(\"enter the first no:\")\n",
        "b=input(\"enter the second no:\")\n",
        "c=a+b\n",
        "c"
      ],
      "metadata": {
        "colab": {
          "base_uri": "https://localhost:8080/",
          "height": 70
        },
        "id": "DTZMRXGfGzfy",
        "outputId": "4da6f85a-6c2f-4508-b9e2-41f6f9b56f78"
      },
      "execution_count": null,
      "outputs": [
        {
          "name": "stdout",
          "output_type": "stream",
          "text": [
            "enter the first no:5\n",
            "enter the second no:6\n"
          ]
        },
        {
          "output_type": "execute_result",
          "data": {
            "text/plain": [
              "'56'"
            ],
            "application/vnd.google.colaboratory.intrinsic+json": {
              "type": "string"
            }
          },
          "metadata": {},
          "execution_count": 11
        }
      ]
    },
    {
      "cell_type": "markdown",
      "source": [
        "type casting--> we can change one datatype value to another datatype"
      ],
      "metadata": {
        "id": "K8d_DxwjHc9X"
      }
    },
    {
      "cell_type": "code",
      "source": [
        "a=int(input(\"enter the first no:\"))\n",
        "b=int(input(\"enter the second no:\"))\n",
        "c=a+b\n",
        "c"
      ],
      "metadata": {
        "colab": {
          "base_uri": "https://localhost:8080/"
        },
        "id": "ISBs08aAHZlb",
        "outputId": "60f2fa43-3c15-4356-ce64-fef957d67621"
      },
      "execution_count": null,
      "outputs": [
        {
          "name": "stdout",
          "output_type": "stream",
          "text": [
            "enter the first no:5\n",
            "enter the second no:6\n"
          ]
        },
        {
          "output_type": "execute_result",
          "data": {
            "text/plain": [
              "11"
            ]
          },
          "metadata": {},
          "execution_count": 12
        }
      ]
    },
    {
      "cell_type": "code",
      "source": [
        "# operators in python-->\n",
        "\n",
        "#1. Add(+)-->5+7=12\n",
        "#2. Subtraction(-)--->7-2=5\n",
        "#3. Multiplication(*)--> 5*2=10\n",
        "#4. Division(/)-->5/2=2.5\n",
        "#5. Floor division(/)-->5/2=2\n",
        "#6. Module(%)-->for reminder calculation-->25%10-->5(reminder)\n",
        "#7. Equal to(=)-->for value assignment --> a=5\n",
        "#8. Equal Equal t0()-->for value comparision\n",
        "#9. Not Equal to(!=)--->4!=5\n",
        "#10. Greator than(>)-->5>4\n",
        "#11. Less than(<)-->4<5\n",
        "#12. Grator than or Equal to(>=)--->5>=5\n",
        "#13. less than or Equal to(<=)--->4<=5"
      ],
      "metadata": {
        "id": "jhuthjk3HkUz"
      },
      "execution_count": null,
      "outputs": []
    },
    {
      "cell_type": "markdown",
      "source": [
        "conditional statement\n",
        "1. if\n",
        "2. elif\n",
        "3. else"
      ],
      "metadata": {
        "id": "f10gPW_hKcEA"
      }
    },
    {
      "cell_type": "code",
      "source": [
        "a=input(\"enter the name :\")\n",
        "if(a=='sam'):\n",
        "  print('yes')\n",
        "elif(a=='mohit'):\n",
        "  print('no')\n",
        "elif(a=='raj'):\n",
        "  print(\"ok\")\n",
        "else:\n",
        "  print('try again')\n"
      ],
      "metadata": {
        "colab": {
          "base_uri": "https://localhost:8080/"
        },
        "id": "6dOAlI9dKeTr",
        "outputId": "6da3a7e4-870c-4914-89af-76306ff669d1"
      },
      "execution_count": null,
      "outputs": [
        {
          "output_type": "stream",
          "name": "stdout",
          "text": [
            "enter the name :karan\n",
            "try again\n"
          ]
        }
      ]
    },
    {
      "cell_type": "code",
      "source": [
        "a=int(input(\"enter your age:\"))\n",
        "if(0<=a<=20):\n",
        "  print(\"child\")\n",
        "elif(25<=a<=50):\n",
        "  print(\"young\")\n",
        "elif(51<=a<=80):\n",
        "  print(\"old\")\n",
        "else:\n",
        "    print(\"enter a valid age \")"
      ],
      "metadata": {
        "colab": {
          "base_uri": "https://localhost:8080/"
        },
        "id": "FklUdhMVLeF5",
        "outputId": "6bc9f8b3-cb3b-4835-ae5f-3d6eeac760dc"
      },
      "execution_count": null,
      "outputs": [
        {
          "output_type": "stream",
          "name": "stdout",
          "text": [
            "enter your age81\n",
            "enter avalid age \n"
          ]
        }
      ]
    },
    {
      "cell_type": "code",
      "source": [
        "#question 1\n",
        "a=int(input(\"enter your age:\"))\n",
        "if(a<18):\n",
        "  print(\"your are not eligble to vote\")\n",
        "elif(a>=18):\n",
        "  print(\"you are eligble to vote\")\n",
        "else:\n",
        "  print(\"try again to check\")"
      ],
      "metadata": {
        "colab": {
          "base_uri": "https://localhost:8080/"
        },
        "id": "k5e_bKKmPjwS",
        "outputId": "3e17c308-c2af-40e2-f17e-c20d021ea831"
      },
      "execution_count": null,
      "outputs": [
        {
          "output_type": "stream",
          "name": "stdout",
          "text": [
            "enter your age:19\n",
            "you are eligble to vote\n"
          ]
        }
      ]
    },
    {
      "cell_type": "code",
      "source": [
        "\n",
        "\n",
        "#question 2()\n",
        "a=int(input(\"enter the total purchase amount:\"))\n",
        "s=(a*10)/100\n",
        "if(a>100):\n",
        "  print(\"your applicable discount\",s)\n",
        "  print(\"your final purchase amount is\",a-s)\n",
        "elif(a<=100):\n",
        "  print(\"you are not eligible for discount\")\n",
        "\n",
        "\n"
      ],
      "metadata": {
        "colab": {
          "base_uri": "https://localhost:8080/"
        },
        "id": "A0E1NcDvQVbm",
        "outputId": "8bd41ccc-4acd-4c2c-9120-4f82d77c1827"
      },
      "execution_count": null,
      "outputs": [
        {
          "output_type": "stream",
          "name": "stdout",
          "text": [
            "enter the total purchase amount:110\n",
            "your applicable discount 11.0\n",
            "your final purchase amount is 99.0\n"
          ]
        }
      ]
    },
    {
      "cell_type": "code",
      "source": [
        "#question 3\n",
        "a=int(input(\"enter the age:\"))\n",
        "if(a<12):\n",
        "  print(\"children: 7 dollar\" )\n",
        "elif(12<=a<=60):\n",
        "  print(\"adult : 10 dollar\")\n",
        "elif(a>60):\n",
        "  print(\"senior: 8 dollar\")\n"
      ],
      "metadata": {
        "colab": {
          "base_uri": "https://localhost:8080/"
        },
        "id": "_O_CdSjIUUTx",
        "outputId": "a555dd6c-aaaa-4cc6-c57e-08ecf5b7d4e9"
      },
      "execution_count": null,
      "outputs": [
        {
          "output_type": "stream",
          "name": "stdout",
          "text": [
            "enter the age:50\n",
            "adult : 10 dollar\n"
          ]
        }
      ]
    },
    {
      "cell_type": "code",
      "source": [
        "#question 4\n",
        "a=int(input(\"enter your salary:\"))\n",
        "b=int(input(\"enter your credits:\"))\n",
        "if(a>=50000 and b>=650):\n",
        "  print(\"you are eligible for loan\")\n",
        "else:\n",
        "  print(\"you are not eligible\")\n"
      ],
      "metadata": {
        "colab": {
          "base_uri": "https://localhost:8080/"
        },
        "id": "-ehNYMIjWGRi",
        "outputId": "86809308-6436-4372-9ab3-a5b9f154ca2e"
      },
      "execution_count": null,
      "outputs": [
        {
          "output_type": "stream",
          "name": "stdout",
          "text": [
            "enter your salary:50000\n",
            "enter your credits:650\n",
            "you are eligible for loan\n"
          ]
        }
      ]
    },
    {
      "cell_type": "code",
      "source": [
        "#question 5\n",
        "a=int(input(\"enter the days you are able to come:\"))\n",
        "if(25<=a<=30):\n",
        "  print(\"suggested plan -->  gold : $100/month unlimited access\")\n",
        "elif(15<=a<=20):\n",
        "  print(\"suggested plan --> silver: $70/month for access 5 times a week\")\n",
        "elif(1<=a<=10):\n",
        "  print(\"suggested plan --> bronze: $50/month for access 3 times a week\")"
      ],
      "metadata": {
        "colab": {
          "base_uri": "https://localhost:8080/"
        },
        "id": "AdDDuQ-UXimg",
        "outputId": "93e8bc9c-ba95-449f-d1bf-386472331379"
      },
      "execution_count": null,
      "outputs": [
        {
          "output_type": "stream",
          "name": "stdout",
          "text": [
            "enter the days you are able to come:25\n",
            "suggested plan -->  gold : $100/month unlimited access\n"
          ]
        }
      ]
    },
    {
      "cell_type": "code",
      "source": [
        "#question 6\n",
        "a=int(input(\"enter the order amount :\"))\n",
        "b=int(input(\"enter the location -- options are : 1 inside city 2.outside  city :\"))\n",
        "c=51\n",
        "if(a>=50 and b==1):\n",
        "  print(\"no extra charges applied --- total amount is :\",a)\n",
        "elif(a<50 and b==2):\n",
        "  print(\"delivery charges included -- total amount\",a+c)\n",
        "elif(a<50 and b==1):\n",
        "  print(\"delivery charges included -- total amount\",a)\n",
        "else:\n",
        "  print(\"delivery charges included -- total amount\",a+c)\n"
      ],
      "metadata": {
        "colab": {
          "base_uri": "https://localhost:8080/"
        },
        "id": "emOxgcY9actS",
        "outputId": "d063b9b6-324c-406f-deb0-66d7376278be"
      },
      "execution_count": null,
      "outputs": [
        {
          "output_type": "stream",
          "name": "stdout",
          "text": [
            "enter the order amount :30\n",
            "enter the location -- options are : 1 inside city 2.outside  city :1\n",
            "delivery charges included -- total amount 30\n"
          ]
        }
      ]
    },
    {
      "cell_type": "code",
      "source": [
        "#question 7\n",
        "a=int(input(\"how many hours you want to park:\"))\n",
        "b=int(input(\"additional hours you have parked:\"))\n",
        "c=a+(b*3)\n",
        "d=5\n",
        "if(a>2):\n",
        "  print(\"your parking fee is :\",c)\n",
        "else:\n",
        "  print(\"your parking fee is \",d)"
      ],
      "metadata": {
        "colab": {
          "base_uri": "https://localhost:8080/"
        },
        "id": "vwDw_dZ9er1g",
        "outputId": "7e524724-3d9c-4ead-96cf-28ec2eff9d96"
      },
      "execution_count": null,
      "outputs": [
        {
          "output_type": "stream",
          "name": "stdout",
          "text": [
            "how many hours you want to park2\n",
            "additional hours you have parked0\n",
            "your parking fee is  5\n"
          ]
        }
      ]
    },
    {
      "cell_type": "code",
      "source": [
        "#question 8\n",
        "a=int(input(\"enter the units\"))\n",
        "b=a*0.10\n",
        "c=a*0.15\n",
        "d=a*0.20\n",
        "if(1<=a<=100):\n",
        "  print(\"the total amount to be paid is :\",b)\n",
        "elif(100<=a<=200):\n",
        "  print(\"the total amount paid to be :\",c)\n",
        "elif(a>200):\n",
        "  print(\"the total amount paid to be :\",d)\n",
        "\n"
      ],
      "metadata": {
        "colab": {
          "base_uri": "https://localhost:8080/"
        },
        "id": "VkMfZ0EuunjX",
        "outputId": "b4ffb17f-cf5d-4ad5-a551-0203464f2d5e"
      },
      "execution_count": null,
      "outputs": [
        {
          "output_type": "stream",
          "name": "stdout",
          "text": [
            "enter the units300\n",
            "the total amount paid to be : 60.0\n"
          ]
        }
      ]
    },
    {
      "cell_type": "markdown",
      "source": [
        "for loop\n",
        "for i in range(1,7,2)\n"
      ],
      "metadata": {
        "id": "VLkZvYO2wQcq"
      }
    },
    {
      "cell_type": "code",
      "source": [
        "# method 2\n",
        "a='sam'\n",
        "for i in a:\n",
        "  print(i, end=\" \")"
      ],
      "metadata": {
        "colab": {
          "base_uri": "https://localhost:8080/"
        },
        "id": "ZrKKYvHqwqLU",
        "outputId": "f9cea6e2-61f8-4ebd-d123-5694a0ff0a81"
      },
      "execution_count": null,
      "outputs": [
        {
          "output_type": "stream",
          "name": "stdout",
          "text": [
            "s a m "
          ]
        }
      ]
    },
    {
      "cell_type": "code",
      "source": [
        "#while loop\n",
        "# 1. intialization\n",
        "# 2. condition\n",
        "# 3. increment/decrement\n",
        "# q-1. write a program to print from 1 to 3 using while loop\n",
        "i=1   #initailaization\n",
        "n=3\n",
        "while(i<=n):           #condition\n",
        "   print(i)\n",
        "   i=i+1               #increment"
      ],
      "metadata": {
        "colab": {
          "base_uri": "https://localhost:8080/"
        },
        "id": "TzTbD_nExEXq",
        "outputId": "c3bcdccc-0043-4c25-d3be-5114fceec388"
      },
      "execution_count": null,
      "outputs": [
        {
          "output_type": "stream",
          "name": "stdout",
          "text": [
            "1\n",
            "2\n",
            "3\n"
          ]
        }
      ]
    },
    {
      "cell_type": "code",
      "source": [
        "#printing\n",
        "i=1\n",
        "n=3\n",
        "sum=0\n",
        "while(i<=n):\n",
        "  sum=sum+i\n",
        "  i=i+1\n",
        "print(sum)\n",
        "\n"
      ],
      "metadata": {
        "colab": {
          "base_uri": "https://localhost:8080/"
        },
        "id": "MUTM8n1Zy6ac",
        "outputId": "64aa0745-5818-43b7-cdbf-fee47b71a455"
      },
      "execution_count": null,
      "outputs": [
        {
          "output_type": "stream",
          "name": "stdout",
          "text": [
            "6\n"
          ]
        }
      ]
    },
    {
      "cell_type": "code",
      "source": [
        "#user defined program\n",
        "i=int(input(\"enter the first numbe :\"))\n",
        "n=int(input(\"enter the last number :\"))\n",
        "sum=0\n",
        "while(i<=n):\n",
        "  sum=sum+i\n",
        "  i=i+1\n",
        "print(\"total sum = \",sum)"
      ],
      "metadata": {
        "colab": {
          "base_uri": "https://localhost:8080/"
        },
        "id": "2GWCsHQK0xXg",
        "outputId": "9ed283f1-e518-4855-e7b5-b93fc4b62ff0"
      },
      "execution_count": null,
      "outputs": [
        {
          "output_type": "stream",
          "name": "stdout",
          "text": [
            "enter the first numbe :1\n",
            "enter the last number :2\n",
            "total sum =  3\n"
          ]
        }
      ]
    },
    {
      "cell_type": "markdown",
      "source": [
        "*#function in python*\n"
      ],
      "metadata": {
        "id": "yw5_O-Nw2MlE"
      }
    },
    {
      "cell_type": "code",
      "source": [
        "# 1.manually created function--->\n",
        "# a. def\n",
        "# b. name of function\n",
        "#c. logics of function\n",
        "#d. call the functions\n",
        "# 2. predefined function-->print(), input(),min(),max()....\n",
        "\n",
        "#create a funtion who add 2 numbers\n",
        "def myadd():\n",
        "  a=4\n",
        "  b=5\n",
        "  c=a+b\n",
        "  print(\"add =\", c)\n",
        "myadd()"
      ],
      "metadata": {
        "colab": {
          "base_uri": "https://localhost:8080/"
        },
        "id": "nm-rkaze2RXf",
        "outputId": "fce038b5-1e6e-428e-9559-26ed5e745ba6"
      },
      "execution_count": null,
      "outputs": [
        {
          "output_type": "stream",
          "name": "stdout",
          "text": [
            "add = 9\n"
          ]
        }
      ]
    },
    {
      "cell_type": "markdown",
      "source": [
        "#arguments and parameters\n",
        "parameters --> these are the values which we passes when we create function\n",
        "\n",
        "arguments --> these are the values which we passes when we call the function"
      ],
      "metadata": {
        "id": "s1HRMCH-4NXy"
      }
    },
    {
      "cell_type": "code",
      "source": [
        "def my_add(a,b):\n",
        "  c=a+b\n",
        "  print(\"add=\",c)\n",
        "my_add(4,5)             #here (4,5)arguments   ,here(a,b)parameters\n"
      ],
      "metadata": {
        "colab": {
          "base_uri": "https://localhost:8080/"
        },
        "id": "U2xlc-wu4q3N",
        "outputId": "378379e9-774b-4f6c-c447-da897b1eea06"
      },
      "execution_count": null,
      "outputs": [
        {
          "output_type": "stream",
          "name": "stdout",
          "text": [
            "add= 9\n"
          ]
        }
      ]
    },
    {
      "cell_type": "code",
      "source": [
        "# Q.2 create a function who can check given number is even or odd\n",
        "\n",
        "def oddeve():\n",
        "  i=34\n",
        "  if(i%2==0):\n",
        "    print(i,\"is even number\")\n",
        "  else:\n",
        "    print(i,\" is odd number\")\n",
        "oddeve()"
      ],
      "metadata": {
        "colab": {
          "base_uri": "https://localhost:8080/"
        },
        "id": "pj0UlHnU5biv",
        "outputId": "6299055e-d3a3-4d3a-cd48-4d4474ccf127"
      },
      "execution_count": null,
      "outputs": [
        {
          "output_type": "stream",
          "name": "stdout",
          "text": [
            "34 is even number\n"
          ]
        }
      ]
    },
    {
      "cell_type": "code",
      "source": [
        "def oddeve(a):\n",
        "  if(a%2==0):\n",
        "    print(a,\"is even no.\")\n",
        "  else:\n",
        "    print(a,\"is odd no.\")\n",
        "p=int(input(\"enter the number\"))\n",
        "oddeve(p)"
      ],
      "metadata": {
        "colab": {
          "base_uri": "https://localhost:8080/"
        },
        "id": "BHqAfuvP6SCA",
        "outputId": "8552fc95-e217-4121-a21b-fa111206ab84"
      },
      "execution_count": null,
      "outputs": [
        {
          "output_type": "stream",
          "name": "stdout",
          "text": [
            "enter the number34\n",
            "34 is even no.\n"
          ]
        }
      ]
    },
    {
      "cell_type": "markdown",
      "source": [
        "#advance functions\n",
        " 1. lambda function\n",
        " 2. filter function\n",
        " 3. map functions\n",
        "\n"
      ],
      "metadata": {
        "id": "MQlvhpZ77FmL"
      }
    },
    {
      "cell_type": "code",
      "source": [
        "# lambda functions it can take any number of arguments but have only one expression\n",
        "x= lambda a: a+5\n",
        "print(\"total value=\",x(2))\n"
      ],
      "metadata": {
        "colab": {
          "base_uri": "https://localhost:8080/"
        },
        "id": "M_SLbqzM72uS",
        "outputId": "1fc0cf82-fd09-4ad5-9c67-9c89aca0205d"
      },
      "execution_count": null,
      "outputs": [
        {
          "output_type": "stream",
          "name": "stdout",
          "text": [
            "total value= 7\n"
          ]
        }
      ]
    },
    {
      "cell_type": "code",
      "source": [
        "x= lambda a,b: a*b\n",
        "print(\"total value=\",x(2,5))"
      ],
      "metadata": {
        "colab": {
          "base_uri": "https://localhost:8080/"
        },
        "id": "9fblHViY8SiQ",
        "outputId": "ea8a44d0-2b0e-4390-9bdf-dbbc71e3439d"
      },
      "execution_count": null,
      "outputs": [
        {
          "output_type": "stream",
          "name": "stdout",
          "text": [
            "total value= 10\n"
          ]
        }
      ]
    },
    {
      "cell_type": "code",
      "source": [
        "x= lambda a,b,c: a+b-c\n",
        "print(\"total value=\",x(2,3,4))"
      ],
      "metadata": {
        "colab": {
          "base_uri": "https://localhost:8080/"
        },
        "id": "KcOlgZ_C8Y_A",
        "outputId": "89739a8d-348d-4a0e-a542-3f9c5336fc59"
      },
      "execution_count": null,
      "outputs": [
        {
          "output_type": "stream",
          "name": "stdout",
          "text": [
            "total value= 1\n"
          ]
        }
      ]
    },
    {
      "cell_type": "code",
      "source": [
        "#filter function filtering a sub container using filter function\n",
        "# konsa logic\n",
        "# kaha lagan chahte ho\n",
        "ages = [5,12,17,18,34,67,50]\n",
        "def myfunc(x):\n",
        "  if(x>=18):\n",
        "    return True\n",
        "  else:\n",
        "    return False\n",
        "kid=list(filter(myfunc,ages))\n",
        "print(kid)"
      ],
      "metadata": {
        "colab": {
          "base_uri": "https://localhost:8080/"
        },
        "id": "SzsiBkFz873U",
        "outputId": "9a1ec92c-6ccf-4f76-e1e8-d29644915476"
      },
      "execution_count": null,
      "outputs": [
        {
          "output_type": "stream",
          "name": "stdout",
          "text": [
            "[18, 34, 67, 50]\n"
          ]
        }
      ]
    },
    {
      "cell_type": "code",
      "source": [
        "# map function -->\n",
        "a=[\"3\",\"45\",\"98\"]\n",
        "# method -1\n",
        "for i in range(len(a)):\n",
        "    a[i]=int(a[i])\n",
        "print(a)\n",
        "a[2]=a[2]+1\n",
        "print(a[2])\n",
        "\n"
      ],
      "metadata": {
        "colab": {
          "base_uri": "https://localhost:8080/"
        },
        "id": "nx6_ZUfu-SzD",
        "outputId": "996a7d7b-a47f-4156-8637-258b6a147bcf"
      },
      "execution_count": null,
      "outputs": [
        {
          "output_type": "stream",
          "name": "stdout",
          "text": [
            "[3, 45, 98]\n",
            "99\n"
          ]
        }
      ]
    },
    {
      "cell_type": "code",
      "source": [
        "#method 2\n",
        "a=[\"3\",\"45\",\"98\"]\n",
        "b=list(map(int,a))\n",
        "print(a)\n",
        "b[2]=b[2]+1\n",
        "print(b[2])"
      ],
      "metadata": {
        "colab": {
          "base_uri": "https://localhost:8080/"
        },
        "id": "0RYB-FQF_8JG",
        "outputId": "96a50231-bef9-4e42-c08d-6ab3b368d750"
      },
      "execution_count": null,
      "outputs": [
        {
          "output_type": "stream",
          "name": "stdout",
          "text": [
            "['3', '45', '98']\n",
            "99\n"
          ]
        }
      ]
    },
    {
      "cell_type": "code",
      "source": [
        "#home work\n",
        "\n",
        "#1 write a lambda function to find the maximum of 2 numbers provided  by the user?\n",
        "#2 use a lambda function to check if a string entered by the user is a palindrom or not\n",
        "#3 create a lambda function to calculate the area of a circle given the radius\n",
        "#4 write a lamda function to check if a number entered by the user is even or odd?\n",
        "#5 use a lambda function to create to calculate the square of a number ?\n",
        "#6 write a program to filter out positive numbers from a series of numbers provided one by one the user using filter function ?\n",
        "#7 use the filter function to filter out or uppercase letter from a string that entered by the user ?\n",
        "#8 use the map function  we have to write a program to convert a set if user provided temperatures from fahrenheit to celcius ?\n",
        "#9 use the map(), we have to compute the sum of digits of the multiple numbers enterred by the user?\n",
        "#10 using the map(), write a program that converts a series of user provided distances in kilometers to miles\n"
      ],
      "metadata": {
        "id": "4vpN0NUlB6Jd"
      },
      "execution_count": null,
      "outputs": []
    },
    {
      "cell_type": "code",
      "source": [
        "# question 1\n",
        "x=lambda a,b: a if(a>b) else b\n",
        "a=int(input(\"enter the first no .\"))\n",
        "b=int(input(\"enter the second no .\"))\n",
        "print(\"maximum no.=\",x(a,b))"
      ],
      "metadata": {
        "colab": {
          "base_uri": "https://localhost:8080/"
        },
        "id": "2c_vmTU_HOKI",
        "outputId": "622b49f7-f1a8-410e-f543-0537aae8b124"
      },
      "execution_count": null,
      "outputs": [
        {
          "output_type": "stream",
          "name": "stdout",
          "text": [
            "enter the first no .2\n",
            "enter the second no .5\n",
            "maximum no.= 5\n"
          ]
        }
      ]
    },
    {
      "cell_type": "code",
      "source": [
        "# question 2\n",
        "a = lambda s: s == s[::-1]\n",
        "s = input(\"Enter a string:\")\n",
        "print(\"Is palindrome:\", a(s))\n"
      ],
      "metadata": {
        "colab": {
          "base_uri": "https://localhost:8080/"
        },
        "id": "4N34v6tkJvVV",
        "outputId": "3c49f096-deae-497c-a557-d641557eed69"
      },
      "execution_count": null,
      "outputs": [
        {
          "output_type": "stream",
          "name": "stdout",
          "text": [
            "Enter a string:prashant\n",
            "Is palindrome: False\n"
          ]
        }
      ]
    },
    {
      "cell_type": "code",
      "source": [
        "#question 3\n",
        "a=lambda r: r*r\n",
        "r=int(input(\"enter a radius:\"))\n",
        "print(\"area of circle is :\",a(r))\n"
      ],
      "metadata": {
        "colab": {
          "base_uri": "https://localhost:8080/"
        },
        "id": "c-QSBxRgMAFC",
        "outputId": "855a0b8b-51c4-47d4-922e-304fe36f6695"
      },
      "execution_count": null,
      "outputs": [
        {
          "output_type": "stream",
          "name": "stdout",
          "text": [
            "enter a radius10\n",
            "area of circle is : 100\n"
          ]
        }
      ]
    },
    {
      "cell_type": "code",
      "source": [
        "#question 4\n",
        "x= lambda a: \"even\" if(a%2==0) else \"odd\"\n",
        "a=int(input(\"enter the number\"))\n",
        "print(\"the number is \",x(a))"
      ],
      "metadata": {
        "colab": {
          "base_uri": "https://localhost:8080/"
        },
        "id": "olH6LFsPNmgm",
        "outputId": "885b5b2a-ec6a-4eb0-89f6-cfef788c9310"
      },
      "execution_count": null,
      "outputs": [
        {
          "output_type": "stream",
          "name": "stdout",
          "text": [
            "enter the number10\n",
            "the number is  even\n"
          ]
        }
      ]
    },
    {
      "cell_type": "code",
      "source": [
        "#question 5\n",
        "a=lambda n: n*n\n",
        "n=int(input(\"enter a radius:\"))\n",
        "print(\"square is :\",a(n))\n"
      ],
      "metadata": {
        "colab": {
          "base_uri": "https://localhost:8080/"
        },
        "id": "x_XyirGXOwQL",
        "outputId": "2cf45dba-0138-47a0-ac4b-82451e39a8ce"
      },
      "execution_count": null,
      "outputs": [
        {
          "output_type": "stream",
          "name": "stdout",
          "text": [
            "enter a radius:5\n",
            "square is : 25\n"
          ]
        }
      ]
    },
    {
      "cell_type": "code",
      "source": [
        "#question 6\n",
        "a = []\n",
        "size = int(input(\"Enter size:\"))\n",
        "for i in range(size):\n",
        "  val = int(input(\"Enter number:\"))\n",
        "  a.append(val)\n",
        "print(a)\n",
        "\n",
        "def pos(x):\n",
        "  if x>0:\n",
        "    return True\n",
        "  else :\n",
        "    return False\n",
        "\n",
        "b = list(filter(pos , a))\n",
        "b"
      ],
      "metadata": {
        "colab": {
          "base_uri": "https://localhost:8080/"
        },
        "id": "WX7P_X8hPFl3",
        "outputId": "b2d1be40-0ccb-4ff4-f2f7-a3f76117c405"
      },
      "execution_count": null,
      "outputs": [
        {
          "output_type": "stream",
          "name": "stdout",
          "text": [
            "Enter size:5\n",
            "Enter number:-5\n",
            "Enter number:-10\n",
            "Enter number:56\n",
            "Enter number:58\n",
            "Enter number:-12\n",
            "[-5, -10, 56, 58, -12]\n"
          ]
        },
        {
          "output_type": "execute_result",
          "data": {
            "text/plain": [
              "[56, 58]"
            ]
          },
          "metadata": {},
          "execution_count": 130
        }
      ]
    }
  ]
}